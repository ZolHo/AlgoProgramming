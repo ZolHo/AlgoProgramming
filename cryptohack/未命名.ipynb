{
 "cells": [
  {
   "cell_type": "code",
   "execution_count": 14,
   "metadata": {},
   "outputs": [
    {
     "name": "stdout",
     "output_type": "stream",
     "text": [
      "['y', 'k', 'w', 'g', 'o', 'j', 'h', 'i', 'f', 'd', 'e', 'b', 't', 'v', 'm', 'x', 'l', 'c', 'V']\n",
      "['n', 'y', 'r', 'b', 'd', 'j', 'x', 'o', 'm', 'l', 'c', 'g', 'q', 's', 'h', 'i', 'e', 'f', 'Y', 'D', 'S']\n",
      "['P', 'V', 'D', 'S', 'U', 'X', 'T', 'H', 'N', 'Q', 'R', 'E', 'G', 'F', 'I', 'K', 'J', 'M', 'Y', 'B', 'W', 'C', 'O', 'L', 's', 'n', 'y']\n",
      "['N', 'H', 'M', 'K', 'F', 'J', 'V', 'P', 'O', 'L', 'Y', 'X', 'W', 'U', 'T', 'S', 'E', 'G', 'I', 'Q', 'R', 'm', 'p', 'g']\n",
      "['W', 'Q', 'C', 'T', 'R', 'S', 'O', 'I', 'V', 'G', 'U', 'B', 'N', 'L', 'M', 'J', 'E', 'P', 'D', 'H', 'K', 't', 'i']\n",
      "['u', 's', 'v', 'p', 'q', 'm', 'k', 't', 'e', 'w', 'b', 'c', 'l', 'n', 'o', 'h', 'g', 'r', 'f', 'j', 'i', 'V', 'K']\n",
      "['o', 'i', 'l', 'j', 'g', 'k', 'w', 'q', 'n', 'm', 'x', 'y', 'v', 't', 'u', 'r', 'd', 'f', 'h', 'p', 's', 'L', 'Q', 'F']\n",
      "[]\n",
      "['n', 'y', 'r', 'b', 'd', 'j', 'x', 'o', 'm', 'l', 'c', 'g', 'q', 's', 'h', 'i', 'e', 'f', 'Y', 'D', 'S']\n",
      "['W', 'Q', 'C', 'T', 'R', 'S', 'O', 'I', 'V', 'G', 'U', 'B', 'N', 'L', 'M', 'J', 'E', 'P', 'D', 'H', 'K', 't', 'i']\n",
      "['P', 'V', 'D', 'S', 'U', 'X', 'T', 'H', 'N', 'Q', 'R', 'E', 'G', 'F', 'I', 'K', 'J', 'M', 'Y', 'B', 'W', 'C', 'O', 'L', 's', 'n', 'y']\n",
      "[]\n",
      "['V', 'P', 'B', 'U', 'S', 'R', 'N', 'H', 'W', 'F', 'T', 'C', 'O', 'M', 'L', 'K', 'D', 'Q', 'E', 'I', 'J', 'u', 'h']\n",
      "['E', 'C', 'Q', 'F', 'M', 'D', 'U', 'G', 'P', 'R', 'S', 'X', 'N', 'L', 'W', 'B', 'V', 'Y', 'f', 'l']\n",
      "['Y', 'K', 'W', 'G', 'O', 'J', 'H', 'I', 'F', 'D', 'E', 'B', 'T', 'V', 'M', 'X', 'L', 'C', 'v']\n",
      "['f', 'r', 'e', 'c', 'n', 'b', 'x', 'g', 'v', 'd', 's', 'q', 'p', 'm', 'o', 't', 'u', 'y', 'E', 'X', 'O']\n",
      "[]\n",
      "['y', 'k', 'w', 'g', 'o', 'j', 'h', 'i', 'f', 'd', 'e', 'b', 't', 'v', 'm', 'x', 'l', 'c', 'V']\n",
      "['v', 'p', 'b', 'u', 's', 'r', 'n', 'h', 'w', 'f', 't', 'c', 'o', 'm', 'l', 'k', 'd', 'q', 'e', 'i', 'j', 'U', 'H']\n",
      "['o', 'x', 's', 'c', 'e', 'k', 'y', 'n', 'l', 'm', 'b', 'f', 'p', 'r', 'i', 'h', 'd', 'g', 'X', 'E', 'R']\n",
      "['M', 'K', 'Y', 'N', 'H', 'E', 'I', 'U', 'S', 'L', 'O', 'X', 'T', 'V', 'W', 'P', 'F', 'D', 'J', 'R', 'Q', 'n', 's', 'd']\n",
      "[]\n",
      "['g', 'u', 'b', 'd', 'i', 'e', 'y', 'q', 'c', 't', 'v', 'w', 'x', 'j', 'h', 's', 'f', 'r', 'B', 'H']\n",
      "['O', 'I', 'L', 'J', 'G', 'K', 'W', 'Q', 'N', 'M', 'X', 'Y', 'V', 'T', 'U', 'R', 'D', 'F', 'H', 'P', 'S', 'l', 'q', 'f']\n",
      "['T', 'R', 'W', 'Q', 'P', 'L', 'J', 'U', 'D', 'V', 'C', 'B', 'M', 'O', 'N', 'I', 'F', 'S', 'G', 'K', 'H', 'w', 'j']\n",
      "['W', 'Q', 'C', 'T', 'R', 'S', 'O', 'I', 'V', 'G', 'U', 'B', 'N', 'L', 'M', 'J', 'E', 'P', 'D', 'H', 'K', 't', 'i']\n",
      "['P', 'V', 'D', 'S', 'U', 'X', 'T', 'H', 'N', 'Q', 'R', 'E', 'G', 'F', 'I', 'K', 'J', 'M', 'Y', 'B', 'W', 'C', 'O', 'L', 's', 'n', 'y']\n",
      "[]\n",
      "['V', 'P', 'B', 'U', 'S', 'R', 'N', 'H', 'W', 'F', 'T', 'C', 'O', 'M', 'L', 'K', 'D', 'Q', 'E', 'I', 'J', 'u', 'h']\n",
      "['E', 'C', 'Q', 'F', 'M', 'D', 'U', 'G', 'P', 'R', 'S', 'X', 'N', 'L', 'W', 'B', 'V', 'Y', 'f', 'l']\n",
      "['Y', 'K', 'W', 'G', 'O', 'J', 'H', 'I', 'F', 'D', 'E', 'B', 'T', 'V', 'M', 'X', 'L', 'C', 'v']\n",
      "['f', 'r', 'e', 'c', 'n', 'b', 'x', 'g', 'v', 'd', 's', 'q', 'p', 'm', 'o', 't', 'u', 'y', 'E', 'X', 'O']\n",
      "[]\n",
      "['y', 'k', 'w', 'g', 'o', 'j', 'h', 'i', 'f', 'd', 'e', 'b', 't', 'v', 'm', 'x', 'l', 'c', 'V']\n",
      "['v', 'p', 'b', 'u', 's', 'r', 'n', 'h', 'w', 'f', 't', 'c', 'o', 'm', 'l', 'k', 'd', 'q', 'e', 'i', 'j', 'U', 'H']\n",
      "[]\n",
      "['W', 'Q', 'C', 'T', 'R', 'S', 'O', 'I', 'V', 'G', 'U', 'B', 'N', 'L', 'M', 'J', 'E', 'P', 'D', 'H', 'K', 't', 'i']\n",
      "['E', 'C', 'Q', 'F', 'M', 'D', 'U', 'G', 'P', 'R', 'S', 'X', 'N', 'L', 'W', 'B', 'V', 'Y', 'f', 'l']\n",
      "[]\n",
      "['d', 'b', 'p', 'g', 'l', 'e', 't', 'f', 'q', 's', 'r', 'y', 'o', 'm', 'v', 'c', 'w', 'x', 'G', 'M']\n",
      "['p', 'v', 'd', 's', 'u', 'x', 't', 'h', 'n', 'q', 'r', 'e', 'g', 'f', 'i', 'k', 'j', 'm', 'y', 'b', 'w', 'c', 'o', 'l', 'S', 'N', 'Y']\n",
      "['u', 's', 'v', 'p', 'q', 'm', 'k', 't', 'e', 'w', 'b', 'c', 'l', 'n', 'o', 'h', 'g', 'r', 'f', 'j', 'i', 'V', 'K']\n"
     ]
    }
   ],
   "source": [
    "\n",
    "sb = 0x0e0b213f26041e480b26217f27342e175d0e070a3c5b103e2526217f27342e175d0e077e263451150104\n",
    "xo = 0xff\n",
    "alph = \"mykeysecurityROX\"\n",
    "ff = \"flag{}_\"\n",
    "ans = []\n",
    "\n",
    "\n",
    "# string = \"crypto{\"\n",
    "while sb>0:\n",
    "    temp = (sb&xo)\n",
    "    sb = sb>>8\n",
    "    tp = []\n",
    "    for i in alph :\n",
    "        if temp^ord(i) :\n",
    "            tp.append(chr(temp^ord(i)))\n",
    "    ans.insert(0, tp)\n",
    "for i in ans:\n",
    "    print(i)\n",
    "\n"
   ]
  },
  {
   "cell_type": "code",
   "execution_count": 3,
   "metadata": {},
   "outputs": [
    {
     "name": "stdout",
     "output_type": "stream",
     "text": [
      "sss\n"
     ]
    }
   ],
   "source": [
    "s = \"0e0b213f26041e480b26217f27342e175d0e070a3c5b103e2526217f27342e175d0e077e263451150104\"\n"
   ]
  },
  {
   "cell_type": "code",
   "execution_count": null,
   "metadata": {},
   "outputs": [],
   "source": []
  }
 ],
 "metadata": {
  "kernelspec": {
   "display_name": "Python 3",
   "language": "python",
   "name": "python3"
  },
  "language_info": {
   "codemirror_mode": {
    "name": "ipython",
    "version": 3
   },
   "file_extension": ".py",
   "mimetype": "text/x-python",
   "name": "python",
   "nbconvert_exporter": "python",
   "pygments_lexer": "ipython3",
   "version": "3.7.6"
  }
 },
 "nbformat": 4,
 "nbformat_minor": 4
}

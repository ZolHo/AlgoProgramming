{
 "cells": [
  {
   "cell_type": "code",
   "execution_count": 10,
   "metadata": {},
   "outputs": [
    {
     "name": "stdout",
     "output_type": "stream",
     "text": [
      "['m', 'y', 'k', 'e', 'R', 'O', 'X']\n",
      "['m', 'y', 'k', 'e', 'R', 'O', 'X']\n",
      "['m', 'y', 'k', 'e', 'R', 'O', 'X']\n",
      "['m', 'y', 'k', 'e', 'R', 'O', 'X']\n",
      "['m', 'y', 'k', 'e', 'R', 'O']\n",
      "['m', 'y', 'k', 'e', 'R', 'O', 'X']\n",
      "['m', 'y', 'k', 'e', 'R', 'O', 'X']\n",
      "['m', 'y', 'k', 'e']\n",
      "['m', 'y', 'k', 'e', 'R', 'O', 'X']\n",
      "['m', 'y', 'k', 'e', 'R', 'O']\n",
      "['m', 'y', 'k', 'e', 'R', 'O', 'X']\n",
      "['R', 'O', 'X']\n",
      "['m', 'y', 'k', 'e', 'R', 'O']\n",
      "['m', 'y', 'k', 'e', 'R', 'O', 'X']\n",
      "['m', 'y', 'k', 'e', 'R', 'O', 'X']\n",
      "['m', 'y', 'k', 'e', 'R', 'O', 'X']\n",
      "['m', 'y', 'k', 'e']\n",
      "['m', 'y', 'k', 'e', 'R', 'O', 'X']\n",
      "['m', 'k', 'e', 'R', 'O', 'X']\n",
      "['m', 'y', 'k', 'e', 'R', 'O', 'X']\n",
      "['m', 'y', 'k', 'e', 'R', 'O', 'X']\n",
      "['m', 'y', 'k', 'e']\n",
      "['m', 'y', 'k', 'e', 'R', 'O', 'X']\n",
      "['m', 'y', 'k', 'e', 'R', 'O', 'X']\n",
      "['m', 'y', 'k', 'e', 'R', 'O', 'X']\n",
      "['m', 'y', 'k', 'e', 'R', 'O']\n",
      "['m', 'y', 'k', 'e', 'R', 'O', 'X']\n",
      "['R', 'O', 'X']\n",
      "['m', 'y', 'k', 'e', 'R', 'O']\n",
      "['m', 'y', 'k', 'e', 'R', 'O', 'X']\n",
      "['m', 'y', 'k', 'e', 'R', 'O', 'X']\n",
      "['m', 'y', 'k', 'e', 'R', 'O', 'X']\n",
      "['m', 'y', 'k', 'e']\n",
      "['m', 'y', 'k', 'e', 'R', 'O', 'X']\n",
      "['m', 'k', 'e', 'R', 'O', 'X']\n",
      "['R', 'O', 'X']\n",
      "['m', 'y', 'k', 'e', 'R', 'O']\n",
      "['m', 'y', 'k', 'e', 'R', 'O', 'X']\n",
      "['m', 'y', 'k', 'e']\n",
      "['m', 'y', 'e', 'R', 'O', 'X']\n",
      "['m', 'y', 'k', 'e', 'R', 'O', 'X']\n",
      "['m', 'y', 'k', 'e', 'R', 'O', 'X']\n"
     ]
    }
   ],
   "source": [
    "\n",
    "sb = 0x0e0b213f26041e480b26217f27342e175d0e070a3c5b103e2526217f27342e175d0e077e263451150104\n",
    "xo = 0xff\n",
    "alph = \"mykeROX\"\n",
    "ff = \"flag{}_qwertyuiopasdfghjklzxcvbnmQWERTYUIOPASDFGHJKLZXCVBNM\"\n",
    "ans = []\n",
    "\n",
    "numcur = [ord(i) for i in ff]\n",
    "# string = \"crypto{\"\n",
    "while sb>0:\n",
    "    temp = (sb&xo)\n",
    "    sb = sb>>8\n",
    "    tp = []\n",
    "    for i in alph :\n",
    "        if  33<=temp^ord(i) <= 125 :\n",
    "            tp.append(i)\n",
    "    ans.insert(0, tp)\n",
    "for i in ans:\n",
    "    print(i)\n",
    "\n"
   ]
  },
  {
   "cell_type": "code",
   "execution_count": 3,
   "metadata": {},
   "outputs": [
    {
     "name": "stdout",
     "output_type": "stream",
     "text": [
      "sss\n"
     ]
    }
   ],
   "source": [
    "s = \"0e0b213f26041e480b26217f27342e175d0e070a3c5b103e2526217f27342e175d0e077e263451150104\"\n"
   ]
  },
  {
   "cell_type": "code",
   "execution_count": null,
   "metadata": {},
   "outputs": [],
   "source": [
    "a = 0x636A56355279427363446C4A49454A7154534230526D6843\n",
    "b = 0x56445A31614342354E326C4B4946467A5769426961453067\n",
    "c = a^b\n",
    "print(\"\".join([]))"
   ]
  }
 ],
 "metadata": {
  "kernelspec": {
   "name": "python3",
   "language": "python",
   "display_name": "Python 3"
  },
  "language_info": {
   "codemirror_mode": {
    "name": "ipython",
    "version": 3
   },
   "file_extension": ".py",
   "mimetype": "text/x-python",
   "name": "python",
   "nbconvert_exporter": "python",
   "pygments_lexer": "ipython3",
   "version": "3.7.6"
  }
 },
 "nbformat": 4,
 "nbformat_minor": 4
}